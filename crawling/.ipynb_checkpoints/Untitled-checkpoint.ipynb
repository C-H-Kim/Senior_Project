{
 "cells": [
  {
   "cell_type": "code",
   "execution_count": 3,
   "id": "e2db550d",
   "metadata": {},
   "outputs": [
    {
     "name": "stdout",
     "output_type": "stream",
     "text": [
      "Collecting mahotas\n",
      "  Downloading mahotas-1.4.13-cp39-cp39-manylinux_2_12_x86_64.manylinux2010_x86_64.whl (5.5 MB)\n",
      "\u001b[2K     \u001b[90m━━━━━━━━━━━━━━━━━━━━━━━━━━━━━━━━━━━━━━━━\u001b[0m \u001b[32m5.5/5.5 MB\u001b[0m \u001b[31m11.1 MB/s\u001b[0m eta \u001b[36m0:00:00\u001b[0m00:01\u001b[0m00:01\u001b[0m\n",
      "\u001b[?25hRequirement already satisfied: numpy in /home/chkim/SeniorProject/tensor2.8/lib/python3.9/site-packages (from mahotas) (1.23.3)\n",
      "Installing collected packages: mahotas\n",
      "Successfully installed mahotas-1.4.13\n",
      "\n",
      "\u001b[1m[\u001b[0m\u001b[34;49mnotice\u001b[0m\u001b[1;39;49m]\u001b[0m\u001b[39;49m A new release of pip available: \u001b[0m\u001b[31;49m22.2.2\u001b[0m\u001b[39;49m -> \u001b[0m\u001b[32;49m22.3\u001b[0m\n",
      "\u001b[1m[\u001b[0m\u001b[34;49mnotice\u001b[0m\u001b[1;39;49m]\u001b[0m\u001b[39;49m To update, run: \u001b[0m\u001b[32;49mpip install --upgrade pip\u001b[0m\n",
      "Note: you may need to restart the kernel to use updated packages.\n"
     ]
    }
   ],
   "source": [
    "pip install mahotas"
   ]
  },
  {
   "cell_type": "code",
   "execution_count": 4,
   "id": "e30ca6e0",
   "metadata": {},
   "outputs": [],
   "source": [
    "from glob import glob\n",
    "import mahotas as mh\n",
    "import numpy as np\n",
    "import matplotlib.pyplot as plt"
   ]
  },
  {
   "cell_type": "code",
   "execution_count": 5,
   "id": "811c0775",
   "metadata": {},
   "outputs": [],
   "source": [
    "images = glob('./test_origin/coca cola can/*.jpg')"
   ]
  },
  {
   "cell_type": "code",
   "execution_count": 6,
   "id": "d3d8b1a6",
   "metadata": {},
   "outputs": [
    {
     "data": {
      "text/plain": [
       "['./test_origin/coca cola can/coca cola can_675.jpg',\n",
       " './test_origin/coca cola can/coca cola can_806.jpg',\n",
       " './test_origin/coca cola can/coca cola can_973.jpg',\n",
       " './test_origin/coca cola can/coca cola can_266.jpg',\n",
       " './test_origin/coca cola can/coca cola can_737.jpg']"
      ]
     },
     "execution_count": 6,
     "metadata": {},
     "output_type": "execute_result"
    }
   ],
   "source": [
    "images[:5]"
   ]
  },
  {
   "cell_type": "code",
   "execution_count": 8,
   "id": "3f4836b1",
   "metadata": {},
   "outputs": [
    {
     "data": {
      "text/plain": [
       "'coca cola can'"
      ]
     },
     "execution_count": 8,
     "metadata": {},
     "output_type": "execute_result"
    }
   ],
   "source": [
    "images[0][28:41]"
   ]
  },
  {
   "cell_type": "code",
   "execution_count": 32,
   "id": "96e5631f",
   "metadata": {},
   "outputs": [
    {
     "name": "stdout",
     "output_type": "stream",
     "text": [
      "776\n"
     ]
    }
   ],
   "source": [
    "print(images.index('./test_origin/coca cola can/coca cola can_0.jpg'))"
   ]
  },
  {
   "cell_type": "code",
   "execution_count": 38,
   "id": "a5279698",
   "metadata": {},
   "outputs": [],
   "source": [
    "from PIL import Image\n",
    "\n",
    "for im in images:\n",
    "    img = Image.open(im)\n",
    "    if img.mode != 'RGB':\n",
    "        img = img.convert('RGB')\n",
    "    img.save(im)"
   ]
  },
  {
   "cell_type": "code",
   "execution_count": 39,
   "id": "cf823f03",
   "metadata": {},
   "outputs": [
    {
     "name": "stdout",
     "output_type": "stream",
     "text": [
      "fit time : 16.201627016067505\n"
     ]
    }
   ],
   "source": [
    "import time\n",
    "from PIL import Image\n",
    "\n",
    "features = []\n",
    "labels = []\n",
    "\n",
    "start = time.time()\n",
    "\n",
    "for im in images:\n",
    "    labels.append(im[28:41])\n",
    "    im = mh.imread(im)\n",
    "    im = mh.colors.rgb2grey(im, dtype=np.uint8)\n",
    "    features.append(mh.features.haralick(im).ravel())\n",
    "\n",
    "print(f'fit time : {time.time() - start}')"
   ]
  },
  {
   "cell_type": "code",
   "execution_count": 40,
   "id": "0a63b313",
   "metadata": {},
   "outputs": [
    {
     "data": {
      "text/plain": [
       "array([[ 7.28395798e-04,  3.84297977e+02,  9.53980618e-01, ...,\n",
       "         4.68328217e+00, -3.56295265e-01,  9.97988521e-01],\n",
       "       [ 8.16319163e-03,  2.96611602e+02,  9.57173076e-01, ...,\n",
       "         4.23720128e+00, -4.08311909e-01,  9.97955926e-01],\n",
       "       [ 2.56174719e-03,  4.37779844e+02,  9.54663957e-01, ...,\n",
       "         4.92585952e+00, -3.51457765e-01,  9.97678085e-01],\n",
       "       ...,\n",
       "       [ 5.03245615e-03,  4.15324493e+02,  9.48325705e-01, ...,\n",
       "         4.64537980e+00, -3.58827402e-01,  9.97517495e-01],\n",
       "       [ 5.70585338e-01,  3.91965476e+02,  9.11394142e-01, ...,\n",
       "         2.13365265e+00, -4.86382190e-01,  9.51695909e-01],\n",
       "       [ 4.98571153e-04,  2.61853589e+03,  7.02264514e-01, ...,\n",
       "         6.64126387e+00, -1.41632084e-01,  9.36263152e-01]])"
      ]
     },
     "execution_count": 40,
     "metadata": {},
     "output_type": "execute_result"
    }
   ],
   "source": [
    "features = np.array(features)\n",
    "labels = np.array(labels)\n",
    "features"
   ]
  },
  {
   "cell_type": "code",
   "execution_count": 44,
   "id": "858271b2",
   "metadata": {},
   "outputs": [
    {
     "ename": "SyntaxError",
     "evalue": "invalid syntax (4240192543.py, line 1)",
     "output_type": "error",
     "traceback": [
      "\u001b[0;36m  Cell \u001b[0;32mIn [44], line 1\u001b[0;36m\u001b[0m\n\u001b[0;31m    pip install scikit-learn\u001b[0m\n\u001b[0m        ^\u001b[0m\n\u001b[0;31mSyntaxError\u001b[0m\u001b[0;31m:\u001b[0m invalid syntax\n"
     ]
    }
   ],
   "source": [
    "pip install scikit-learn\n",
    "\n",
    "from sklearn.pipeline import Pipeline\n",
    "from sklearn.preprocessing import StandardScaler\n",
    "from sklearn.linear_model import LogisticRegression\n",
    "\n",
    "clf = Pipeline([('preproc', StandardScaler()),\n",
    "                ('classifier', LogisticRegression())])\n",
    "clf"
   ]
  },
  {
   "cell_type": "code",
   "execution_count": null,
   "id": "ad1231d1",
   "metadata": {},
   "outputs": [],
   "source": []
  }
 ],
 "metadata": {
  "kernelspec": {
   "display_name": "Python 3 (ipykernel)",
   "language": "python",
   "name": "python3"
  },
  "language_info": {
   "codemirror_mode": {
    "name": "ipython",
    "version": 3
   },
   "file_extension": ".py",
   "mimetype": "text/x-python",
   "name": "python",
   "nbconvert_exporter": "python",
   "pygments_lexer": "ipython3",
   "version": "3.9.1"
  }
 },
 "nbformat": 4,
 "nbformat_minor": 5
}
