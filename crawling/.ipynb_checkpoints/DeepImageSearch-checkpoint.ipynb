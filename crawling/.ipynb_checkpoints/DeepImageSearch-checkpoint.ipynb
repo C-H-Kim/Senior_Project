{
 "cells": [
  {
   "cell_type": "code",
   "execution_count": 1,
   "id": "2fce3a90",
   "metadata": {},
   "outputs": [
    {
     "name": "stdout",
     "output_type": "stream",
     "text": [
      "Requirement already satisfied: DeepImageSearch in /home/chkim/SeniorProject/tensor2.8/lib/python3.9/site-packages (1.4)\n",
      "Requirement already satisfied: numpy in /home/chkim/SeniorProject/tensor2.8/lib/python3.9/site-packages (from DeepImageSearch) (1.23.3)\n",
      "Requirement already satisfied: Pillow in /home/chkim/SeniorProject/tensor2.8/lib/python3.9/site-packages (from DeepImageSearch) (9.2.0)\n",
      "Requirement already satisfied: tensorflow in /home/chkim/SeniorProject/tensor2.8/lib/python3.9/site-packages (from DeepImageSearch) (2.8.0)\n",
      "Requirement already satisfied: pandas in /home/chkim/SeniorProject/tensor2.8/lib/python3.9/site-packages (from DeepImageSearch) (1.5.0)\n",
      "Requirement already satisfied: annoy in /home/chkim/SeniorProject/tensor2.8/lib/python3.9/site-packages (from DeepImageSearch) (1.17.1)\n",
      "Requirement already satisfied: tqdm in /home/chkim/SeniorProject/tensor2.8/lib/python3.9/site-packages (from DeepImageSearch) (4.64.1)\n",
      "Requirement already satisfied: matplotlib in /home/chkim/SeniorProject/tensor2.8/lib/python3.9/site-packages (from DeepImageSearch) (3.6.0)\n",
      "Requirement already satisfied: cycler>=0.10 in /home/chkim/SeniorProject/tensor2.8/lib/python3.9/site-packages (from matplotlib->DeepImageSearch) (0.11.0)\n",
      "Requirement already satisfied: pyparsing>=2.2.1 in /home/chkim/SeniorProject/tensor2.8/lib/python3.9/site-packages (from matplotlib->DeepImageSearch) (3.0.9)\n",
      "Requirement already satisfied: python-dateutil>=2.7 in /home/chkim/SeniorProject/tensor2.8/lib/python3.9/site-packages (from matplotlib->DeepImageSearch) (2.8.2)\n",
      "Requirement already satisfied: fonttools>=4.22.0 in /home/chkim/SeniorProject/tensor2.8/lib/python3.9/site-packages (from matplotlib->DeepImageSearch) (4.37.4)\n",
      "Requirement already satisfied: contourpy>=1.0.1 in /home/chkim/SeniorProject/tensor2.8/lib/python3.9/site-packages (from matplotlib->DeepImageSearch) (1.0.5)\n",
      "Requirement already satisfied: kiwisolver>=1.0.1 in /home/chkim/SeniorProject/tensor2.8/lib/python3.9/site-packages (from matplotlib->DeepImageSearch) (1.4.4)\n",
      "Requirement already satisfied: packaging>=20.0 in /home/chkim/SeniorProject/tensor2.8/lib/python3.9/site-packages (from matplotlib->DeepImageSearch) (21.3)\n",
      "Requirement already satisfied: pytz>=2020.1 in /home/chkim/SeniorProject/tensor2.8/lib/python3.9/site-packages (from pandas->DeepImageSearch) (2022.4)\n",
      "Requirement already satisfied: absl-py>=0.4.0 in /home/chkim/SeniorProject/tensor2.8/lib/python3.9/site-packages (from tensorflow->DeepImageSearch) (1.2.0)\n",
      "Requirement already satisfied: tensorflow-io-gcs-filesystem>=0.23.1 in /home/chkim/SeniorProject/tensor2.8/lib/python3.9/site-packages (from tensorflow->DeepImageSearch) (0.27.0)\n",
      "Requirement already satisfied: six>=1.12.0 in /home/chkim/SeniorProject/tensor2.8/lib/python3.9/site-packages (from tensorflow->DeepImageSearch) (1.16.0)\n",
      "Requirement already satisfied: h5py>=2.9.0 in /home/chkim/SeniorProject/tensor2.8/lib/python3.9/site-packages (from tensorflow->DeepImageSearch) (3.7.0)\n",
      "Requirement already satisfied: gast>=0.2.1 in /home/chkim/SeniorProject/tensor2.8/lib/python3.9/site-packages (from tensorflow->DeepImageSearch) (0.5.3)\n",
      "Requirement already satisfied: libclang>=9.0.1 in /home/chkim/SeniorProject/tensor2.8/lib/python3.9/site-packages (from tensorflow->DeepImageSearch) (14.0.6)\n",
      "Requirement already satisfied: tf-estimator-nightly==2.8.0.dev2021122109 in /home/chkim/SeniorProject/tensor2.8/lib/python3.9/site-packages (from tensorflow->DeepImageSearch) (2.8.0.dev2021122109)\n",
      "Requirement already satisfied: setuptools in /home/chkim/SeniorProject/tensor2.8/lib/python3.9/site-packages (from tensorflow->DeepImageSearch) (65.4.1)\n",
      "Requirement already satisfied: typing-extensions>=3.6.6 in /home/chkim/SeniorProject/tensor2.8/lib/python3.9/site-packages (from tensorflow->DeepImageSearch) (4.3.0)\n",
      "Requirement already satisfied: protobuf>=3.9.2 in /home/chkim/SeniorProject/tensor2.8/lib/python3.9/site-packages (from tensorflow->DeepImageSearch) (3.20.3)\n",
      "Requirement already satisfied: opt-einsum>=2.3.2 in /home/chkim/SeniorProject/tensor2.8/lib/python3.9/site-packages (from tensorflow->DeepImageSearch) (3.3.0)\n",
      "Requirement already satisfied: wrapt>=1.11.0 in /home/chkim/SeniorProject/tensor2.8/lib/python3.9/site-packages (from tensorflow->DeepImageSearch) (1.14.1)\n",
      "Requirement already satisfied: keras<2.9,>=2.8.0rc0 in /home/chkim/SeniorProject/tensor2.8/lib/python3.9/site-packages (from tensorflow->DeepImageSearch) (2.8.0)\n",
      "Requirement already satisfied: google-pasta>=0.1.1 in /home/chkim/SeniorProject/tensor2.8/lib/python3.9/site-packages (from tensorflow->DeepImageSearch) (0.2.0)\n",
      "Requirement already satisfied: grpcio<2.0,>=1.24.3 in /home/chkim/SeniorProject/tensor2.8/lib/python3.9/site-packages (from tensorflow->DeepImageSearch) (1.49.1)\n",
      "Requirement already satisfied: keras-preprocessing>=1.1.1 in /home/chkim/SeniorProject/tensor2.8/lib/python3.9/site-packages (from tensorflow->DeepImageSearch) (1.1.2)\n",
      "Requirement already satisfied: termcolor>=1.1.0 in /home/chkim/SeniorProject/tensor2.8/lib/python3.9/site-packages (from tensorflow->DeepImageSearch) (2.0.1)\n",
      "Requirement already satisfied: astunparse>=1.6.0 in /home/chkim/SeniorProject/tensor2.8/lib/python3.9/site-packages (from tensorflow->DeepImageSearch) (1.6.3)\n",
      "Requirement already satisfied: tensorboard<2.9,>=2.8 in /home/chkim/SeniorProject/tensor2.8/lib/python3.9/site-packages (from tensorflow->DeepImageSearch) (2.8.0)\n",
      "Requirement already satisfied: flatbuffers>=1.12 in /home/chkim/SeniorProject/tensor2.8/lib/python3.9/site-packages (from tensorflow->DeepImageSearch) (22.9.24)\n",
      "Requirement already satisfied: wheel<1.0,>=0.23.0 in /home/chkim/SeniorProject/tensor2.8/lib/python3.9/site-packages (from astunparse>=1.6.0->tensorflow->DeepImageSearch) (0.37.1)\n",
      "Requirement already satisfied: google-auth<3,>=1.6.3 in /home/chkim/SeniorProject/tensor2.8/lib/python3.9/site-packages (from tensorboard<2.9,>=2.8->tensorflow->DeepImageSearch) (2.12.0)\n",
      "Requirement already satisfied: requests<3,>=2.21.0 in /home/chkim/SeniorProject/tensor2.8/lib/python3.9/site-packages (from tensorboard<2.9,>=2.8->tensorflow->DeepImageSearch) (2.28.1)\n",
      "Requirement already satisfied: markdown>=2.6.8 in /home/chkim/SeniorProject/tensor2.8/lib/python3.9/site-packages (from tensorboard<2.9,>=2.8->tensorflow->DeepImageSearch) (3.4.1)\n",
      "Requirement already satisfied: tensorboard-plugin-wit>=1.6.0 in /home/chkim/SeniorProject/tensor2.8/lib/python3.9/site-packages (from tensorboard<2.9,>=2.8->tensorflow->DeepImageSearch) (1.8.1)\n",
      "Requirement already satisfied: tensorboard-data-server<0.7.0,>=0.6.0 in /home/chkim/SeniorProject/tensor2.8/lib/python3.9/site-packages (from tensorboard<2.9,>=2.8->tensorflow->DeepImageSearch) (0.6.1)\n",
      "Requirement already satisfied: google-auth-oauthlib<0.5,>=0.4.1 in /home/chkim/SeniorProject/tensor2.8/lib/python3.9/site-packages (from tensorboard<2.9,>=2.8->tensorflow->DeepImageSearch) (0.4.6)\n",
      "Requirement already satisfied: werkzeug>=0.11.15 in /home/chkim/SeniorProject/tensor2.8/lib/python3.9/site-packages (from tensorboard<2.9,>=2.8->tensorflow->DeepImageSearch) (2.2.2)\n",
      "Requirement already satisfied: rsa<5,>=3.1.4 in /home/chkim/SeniorProject/tensor2.8/lib/python3.9/site-packages (from google-auth<3,>=1.6.3->tensorboard<2.9,>=2.8->tensorflow->DeepImageSearch) (4.9)\n",
      "Requirement already satisfied: pyasn1-modules>=0.2.1 in /home/chkim/SeniorProject/tensor2.8/lib/python3.9/site-packages (from google-auth<3,>=1.6.3->tensorboard<2.9,>=2.8->tensorflow->DeepImageSearch) (0.2.8)\n",
      "Requirement already satisfied: cachetools<6.0,>=2.0.0 in /home/chkim/SeniorProject/tensor2.8/lib/python3.9/site-packages (from google-auth<3,>=1.6.3->tensorboard<2.9,>=2.8->tensorflow->DeepImageSearch) (5.2.0)\n",
      "Requirement already satisfied: requests-oauthlib>=0.7.0 in /home/chkim/SeniorProject/tensor2.8/lib/python3.9/site-packages (from google-auth-oauthlib<0.5,>=0.4.1->tensorboard<2.9,>=2.8->tensorflow->DeepImageSearch) (1.3.1)\n",
      "Requirement already satisfied: importlib-metadata>=4.4 in /home/chkim/SeniorProject/tensor2.8/lib/python3.9/site-packages (from markdown>=2.6.8->tensorboard<2.9,>=2.8->tensorflow->DeepImageSearch) (5.0.0)\n",
      "Requirement already satisfied: idna<4,>=2.5 in /home/chkim/SeniorProject/tensor2.8/lib/python3.9/site-packages (from requests<3,>=2.21.0->tensorboard<2.9,>=2.8->tensorflow->DeepImageSearch) (3.4)\n",
      "Requirement already satisfied: urllib3<1.27,>=1.21.1 in /home/chkim/SeniorProject/tensor2.8/lib/python3.9/site-packages (from requests<3,>=2.21.0->tensorboard<2.9,>=2.8->tensorflow->DeepImageSearch) (1.26.12)\n",
      "Requirement already satisfied: charset-normalizer<3,>=2 in /home/chkim/SeniorProject/tensor2.8/lib/python3.9/site-packages (from requests<3,>=2.21.0->tensorboard<2.9,>=2.8->tensorflow->DeepImageSearch) (2.1.1)\n",
      "Requirement already satisfied: certifi>=2017.4.17 in /home/chkim/SeniorProject/tensor2.8/lib/python3.9/site-packages (from requests<3,>=2.21.0->tensorboard<2.9,>=2.8->tensorflow->DeepImageSearch) (2022.9.24)\n",
      "Requirement already satisfied: MarkupSafe>=2.1.1 in /home/chkim/SeniorProject/tensor2.8/lib/python3.9/site-packages (from werkzeug>=0.11.15->tensorboard<2.9,>=2.8->tensorflow->DeepImageSearch) (2.1.1)\n",
      "Requirement already satisfied: zipp>=0.5 in /home/chkim/SeniorProject/tensor2.8/lib/python3.9/site-packages (from importlib-metadata>=4.4->markdown>=2.6.8->tensorboard<2.9,>=2.8->tensorflow->DeepImageSearch) (3.8.1)\n",
      "Requirement already satisfied: pyasn1<0.5.0,>=0.4.6 in /home/chkim/SeniorProject/tensor2.8/lib/python3.9/site-packages (from pyasn1-modules>=0.2.1->google-auth<3,>=1.6.3->tensorboard<2.9,>=2.8->tensorflow->DeepImageSearch) (0.4.8)\n",
      "Requirement already satisfied: oauthlib>=3.0.0 in /home/chkim/SeniorProject/tensor2.8/lib/python3.9/site-packages (from requests-oauthlib>=0.7.0->google-auth-oauthlib<0.5,>=0.4.1->tensorboard<2.9,>=2.8->tensorflow->DeepImageSearch) (3.2.1)\n"
     ]
    },
    {
     "name": "stdout",
     "output_type": "stream",
     "text": [
      "\n",
      "\u001b[1m[\u001b[0m\u001b[34;49mnotice\u001b[0m\u001b[1;39;49m]\u001b[0m\u001b[39;49m A new release of pip available: \u001b[0m\u001b[31;49m22.2.2\u001b[0m\u001b[39;49m -> \u001b[0m\u001b[32;49m22.3\u001b[0m\n",
      "\u001b[1m[\u001b[0m\u001b[34;49mnotice\u001b[0m\u001b[1;39;49m]\u001b[0m\u001b[39;49m To update, run: \u001b[0m\u001b[32;49mpip install --upgrade pip\u001b[0m\n",
      "Note: you may need to restart the kernel to use updated packages.\n"
     ]
    }
   ],
   "source": [
    "pip install DeepImageSearch"
   ]
  },
  {
   "cell_type": "code",
   "execution_count": 1,
   "id": "f552acb3",
   "metadata": {},
   "outputs": [],
   "source": [
    "# Importing the proper classes\n",
    "from DeepImageSearch import Index,LoadData,SearchImage"
   ]
  },
  {
   "cell_type": "code",
   "execution_count": 2,
   "id": "5a997d7d",
   "metadata": {},
   "outputs": [],
   "source": [
    "# load the Images from the Folder (You can also import data from multiple folders in python list type)\n",
    "image_list = LoadData().from_folder([\"/home/chkim/SeniorProject/crawling/crawl_image_bak/coca cola can\"])"
   ]
  },
  {
   "cell_type": "code",
   "execution_count": 3,
   "id": "566c5654",
   "metadata": {},
   "outputs": [
    {
     "name": "stdout",
     "output_type": "stream",
     "text": [
      "test_origin/coca cola can/coca cola can_675.jpg\n"
     ]
    }
   ],
   "source": [
    "print(image_list[0])"
   ]
  },
  {
   "cell_type": "code",
   "execution_count": 4,
   "id": "bcb1f52c",
   "metadata": {},
   "outputs": [
    {
     "name": "stderr",
     "output_type": "stream",
     "text": [
      "2022-10-20 03:28:28.403331: I tensorflow/stream_executor/cuda/cuda_gpu_executor.cc:936] successful NUMA node read from SysFS had negative value (-1), but there must be at least one NUMA node, so returning NUMA node zero\n",
      "2022-10-20 03:28:28.410433: I tensorflow/stream_executor/cuda/cuda_gpu_executor.cc:936] successful NUMA node read from SysFS had negative value (-1), but there must be at least one NUMA node, so returning NUMA node zero\n",
      "2022-10-20 03:28:28.411014: I tensorflow/stream_executor/cuda/cuda_gpu_executor.cc:936] successful NUMA node read from SysFS had negative value (-1), but there must be at least one NUMA node, so returning NUMA node zero\n",
      "2022-10-20 03:28:28.412207: I tensorflow/core/platform/cpu_feature_guard.cc:151] This TensorFlow binary is optimized with oneAPI Deep Neural Network Library (oneDNN) to use the following CPU instructions in performance-critical operations:  AVX2 FMA\n",
      "To enable them in other operations, rebuild TensorFlow with the appropriate compiler flags.\n",
      "2022-10-20 03:28:28.412579: I tensorflow/stream_executor/cuda/cuda_gpu_executor.cc:936] successful NUMA node read from SysFS had negative value (-1), but there must be at least one NUMA node, so returning NUMA node zero\n",
      "2022-10-20 03:28:28.412924: I tensorflow/stream_executor/cuda/cuda_gpu_executor.cc:936] successful NUMA node read from SysFS had negative value (-1), but there must be at least one NUMA node, so returning NUMA node zero\n",
      "2022-10-20 03:28:28.413247: I tensorflow/stream_executor/cuda/cuda_gpu_executor.cc:936] successful NUMA node read from SysFS had negative value (-1), but there must be at least one NUMA node, so returning NUMA node zero\n",
      "2022-10-20 03:28:28.759098: I tensorflow/stream_executor/cuda/cuda_gpu_executor.cc:936] successful NUMA node read from SysFS had negative value (-1), but there must be at least one NUMA node, so returning NUMA node zero\n",
      "2022-10-20 03:28:28.759460: I tensorflow/stream_executor/cuda/cuda_gpu_executor.cc:936] successful NUMA node read from SysFS had negative value (-1), but there must be at least one NUMA node, so returning NUMA node zero\n",
      "2022-10-20 03:28:28.759770: I tensorflow/stream_executor/cuda/cuda_gpu_executor.cc:936] successful NUMA node read from SysFS had negative value (-1), but there must be at least one NUMA node, so returning NUMA node zero\n",
      "2022-10-20 03:28:28.760070: I tensorflow/core/common_runtime/gpu/gpu_device.cc:1525] Created device /job:localhost/replica:0/task:0/device:GPU:0 with 4409 MB memory:  -> device: 0, name: NVIDIA GeForce GTX 1660 SUPER, pci bus id: 0000:06:00.0, compute capability: 7.5\n"
     ]
    },
    {
     "name": "stdout",
     "output_type": "stream",
     "text": [
      "Metadata and Features are allready present, Do you want Extract Again? Enter yes or no\n",
      "yes\n"
     ]
    },
    {
     "name": "stderr",
     "output_type": "stream",
     "text": [
      "  0%|                                                                                                                               | 0/1000 [00:00<?, ?it/s]2022-10-20 03:28:33.506168: I tensorflow/stream_executor/cuda/cuda_dnn.cc:368] Loaded cuDNN version 8201\n",
      "2022-10-20 03:28:33.808820: W tensorflow/stream_executor/gpu/asm_compiler.cc:111] *** WARNING *** You are using ptxas 9.1.108, which is older than 11.1. ptxas before 11.1 is known to miscompile XLA code, leading to incorrect results or invalid-address errors.\n",
      "\n",
      "You may not need to update to CUDA 11.1; cherry-picking the ptxas binary is often sufficient.\n",
      "2022-10-20 03:28:33.810457: W tensorflow/stream_executor/gpu/asm_compiler.cc:230] Falling back to the CUDA driver for PTX compilation; ptxas does not support CC 7.5\n",
      "2022-10-20 03:28:33.810490: W tensorflow/stream_executor/gpu/asm_compiler.cc:233] Used ptxas at ptxas\n",
      "2022-10-20 03:28:33.812178: W tensorflow/stream_executor/gpu/redzone_allocator.cc:314] UNIMPLEMENTED: ptxas ptxas too old. Falling back to the driver to compile.\n",
      "Relying on driver to perform ptx compilation. \n",
      "Modify $PATH to customize ptxas location.\n",
      "This message will be only logged once.\n",
      "100%|████████████████████████████████████████████████████████████████████████████████████████████████████████████████████| 1000/1000 [00:39<00:00, 25.42it/s]\n"
     ]
    },
    {
     "name": "stdout",
     "output_type": "stream",
     "text": [
      "Image Meta Information Saved: [meta-data-files/image_data_features.pkl]\n"
     ]
    },
    {
     "name": "stderr",
     "output_type": "stream",
     "text": [
      "1000it [00:00, 2343.08it/s]"
     ]
    },
    {
     "name": "stdout",
     "output_type": "stream",
     "text": [
      "Saved the Indexed File:[meta-data-files/image_features_vectors.ann]\n"
     ]
    },
    {
     "name": "stderr",
     "output_type": "stream",
     "text": [
      "\n"
     ]
    }
   ],
   "source": [
    "# For Faster Serching we need to index Data first, After Indexing all the meta data stored on the local path\n",
    "Index(image_list).Start()"
   ]
  },
  {
   "cell_type": "code",
   "execution_count": 5,
   "id": "165938e0",
   "metadata": {},
   "outputs": [],
   "source": [
    "import os"
   ]
  },
  {
   "cell_type": "code",
   "execution_count": 6,
   "id": "1d1306d9",
   "metadata": {},
   "outputs": [],
   "source": [
    "sim_dic = {}"
   ]
  },
  {
   "cell_type": "code",
   "execution_count": 12,
   "id": "27f5155d",
   "metadata": {},
   "outputs": [],
   "source": [
    "sim_dic = SearchImage().get_similar_images(image_path='test_origin/coca cola can/coca cola can_0.jpg',number_of_images=50)"
   ]
  },
  {
   "cell_type": "code",
   "execution_count": 13,
   "id": "b5f68e5d",
   "metadata": {},
   "outputs": [
    {
     "name": "stdout",
     "output_type": "stream",
     "text": [
      "{776: 'test_origin/coca cola can/coca cola can_0.jpg', 856: 'test_origin/coca cola can/coca cola can_9.jpg', 911: 'test_origin/coca cola can/coca cola can_19.jpg', 960: 'test_origin/coca cola can/coca cola can_7.jpg', 501: 'test_origin/coca cola can/coca cola can_634.jpg', 254: 'test_origin/coca cola can/coca cola can_11.jpg', 849: 'test_origin/coca cola can/coca cola can_671.jpg', 194: 'test_origin/coca cola can/coca cola can_5.jpg', 892: 'test_origin/coca cola can/coca cola can_591.jpg', 78: 'test_origin/coca cola can/coca cola can_1.jpg', 256: 'test_origin/coca cola can/coca cola can_4.jpg', 27: 'test_origin/coca cola can/coca cola can_2.jpg', 180: 'test_origin/coca cola can/coca cola can_113.jpg', 809: 'test_origin/coca cola can/coca cola can_611.jpg', 284: 'test_origin/coca cola can/coca cola can_6.jpg', 784: 'test_origin/coca cola can/coca cola can_636.jpg', 970: 'test_origin/coca cola can/coca cola can_686.jpg', 949: 'test_origin/coca cola can/coca cola can_616.jpg', 141: 'test_origin/coca cola can/coca cola can_583.jpg', 569: 'test_origin/coca cola can/coca cola can_733.jpg', 649: 'test_origin/coca cola can/coca cola can_589.jpg', 88: 'test_origin/coca cola can/coca cola can_20.jpg', 497: 'test_origin/coca cola can/coca cola can_15.jpg', 954: 'test_origin/coca cola can/coca cola can_107.jpg', 364: 'test_origin/coca cola can/coca cola can_138.jpg', 464: 'test_origin/coca cola can/coca cola can_581.jpg', 639: 'test_origin/coca cola can/coca cola can_124.jpg', 329: 'test_origin/coca cola can/coca cola can_93.jpg', 884: 'test_origin/coca cola can/coca cola can_696.jpg', 779: 'test_origin/coca cola can/coca cola can_590.jpg', 171: 'test_origin/coca cola can/coca cola can_18.jpg', 620: 'test_origin/coca cola can/coca cola can_795.jpg', 349: 'test_origin/coca cola can/coca cola can_235.jpg', 164: 'test_origin/coca cola can/coca cola can_14.jpg', 118: 'test_origin/coca cola can/coca cola can_1001.jpg', 636: 'test_origin/coca cola can/coca cola can_655.jpg', 165: 'test_origin/coca cola can/coca cola can_248.jpg', 668: 'test_origin/coca cola can/coca cola can_593.jpg', 35: 'test_origin/coca cola can/coca cola can_596.jpg', 579: 'test_origin/coca cola can/coca cola can_938.jpg', 352: 'test_origin/coca cola can/coca cola can_584.jpg', 59: 'test_origin/coca cola can/coca cola can_131.jpg', 282: 'test_origin/coca cola can/coca cola can_267.jpg', 321: 'test_origin/coca cola can/coca cola can_243.jpg', 13: 'test_origin/coca cola can/coca cola can_617.jpg', 327: 'test_origin/coca cola can/coca cola can_405.jpg', 113: 'test_origin/coca cola can/coca cola can_838.jpg', 998: 'test_origin/coca cola can/coca cola can_42.jpg', 522: 'test_origin/coca cola can/coca cola can_595.jpg', 741: 'test_origin/coca cola can/coca cola can_603.jpg'}\n"
     ]
    }
   ],
   "source": [
    "print(sim_dic)"
   ]
  },
  {
   "cell_type": "code",
   "execution_count": 9,
   "id": "53ae91e4",
   "metadata": {},
   "outputs": [
    {
     "data": {
      "text/plain": [
       "'coca cola can_0.jpg'"
      ]
     },
     "execution_count": 9,
     "metadata": {},
     "output_type": "execute_result"
    }
   ],
   "source": [
    "path = sim_dic[776]\n",
    "path[26:]"
   ]
  },
  {
   "cell_type": "code",
   "execution_count": 14,
   "id": "c7aef9c7",
   "metadata": {},
   "outputs": [],
   "source": [
    "from PIL import Image\n",
    "\n",
    "for vec, file_name in sim_dic.items():\n",
    "    img = Image.open(file_name)\n",
    "    if img.mode != 'RGB':\n",
    "        img = img.convert('RGB')\n",
    "    path = sim_dic[vec]\n",
    "    img.save(\"result/res_50/\" + path[26:])"
   ]
  },
  {
   "cell_type": "code",
   "execution_count": null,
   "id": "e3f1c6d1",
   "metadata": {},
   "outputs": [],
   "source": []
  }
 ],
 "metadata": {
  "kernelspec": {
   "display_name": "Python 3 (ipykernel)",
   "language": "python",
   "name": "python3"
  },
  "language_info": {
   "codemirror_mode": {
    "name": "ipython",
    "version": 3
   },
   "file_extension": ".py",
   "mimetype": "text/x-python",
   "name": "python",
   "nbconvert_exporter": "python",
   "pygments_lexer": "ipython3",
   "version": "3.9.1"
  }
 },
 "nbformat": 4,
 "nbformat_minor": 5
}
