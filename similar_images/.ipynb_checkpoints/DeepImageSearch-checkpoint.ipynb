{
 "cells": [
  {
   "cell_type": "code",
   "execution_count": 1,
   "id": "2fce3a90",
   "metadata": {},
   "outputs": [
    {
     "name": "stdout",
     "output_type": "stream",
     "text": [
      "Requirement already satisfied: DeepImageSearch in /home/chkim/SeniorProject/tensor2.8/lib/python3.9/site-packages (1.4)\n",
      "Requirement already satisfied: numpy in /home/chkim/SeniorProject/tensor2.8/lib/python3.9/site-packages (from DeepImageSearch) (1.23.3)\n",
      "Requirement already satisfied: Pillow in /home/chkim/SeniorProject/tensor2.8/lib/python3.9/site-packages (from DeepImageSearch) (9.2.0)\n",
      "Requirement already satisfied: tensorflow in /home/chkim/SeniorProject/tensor2.8/lib/python3.9/site-packages (from DeepImageSearch) (2.8.0)\n",
      "Requirement already satisfied: pandas in /home/chkim/SeniorProject/tensor2.8/lib/python3.9/site-packages (from DeepImageSearch) (1.5.0)\n",
      "Requirement already satisfied: annoy in /home/chkim/SeniorProject/tensor2.8/lib/python3.9/site-packages (from DeepImageSearch) (1.17.1)\n",
      "Requirement already satisfied: tqdm in /home/chkim/SeniorProject/tensor2.8/lib/python3.9/site-packages (from DeepImageSearch) (4.64.1)\n",
      "Requirement already satisfied: matplotlib in /home/chkim/SeniorProject/tensor2.8/lib/python3.9/site-packages (from DeepImageSearch) (3.6.0)\n",
      "Requirement already satisfied: cycler>=0.10 in /home/chkim/SeniorProject/tensor2.8/lib/python3.9/site-packages (from matplotlib->DeepImageSearch) (0.11.0)\n",
      "Requirement already satisfied: pyparsing>=2.2.1 in /home/chkim/SeniorProject/tensor2.8/lib/python3.9/site-packages (from matplotlib->DeepImageSearch) (3.0.9)\n",
      "Requirement already satisfied: python-dateutil>=2.7 in /home/chkim/SeniorProject/tensor2.8/lib/python3.9/site-packages (from matplotlib->DeepImageSearch) (2.8.2)\n",
      "Requirement already satisfied: fonttools>=4.22.0 in /home/chkim/SeniorProject/tensor2.8/lib/python3.9/site-packages (from matplotlib->DeepImageSearch) (4.37.4)\n",
      "Requirement already satisfied: contourpy>=1.0.1 in /home/chkim/SeniorProject/tensor2.8/lib/python3.9/site-packages (from matplotlib->DeepImageSearch) (1.0.5)\n",
      "Requirement already satisfied: kiwisolver>=1.0.1 in /home/chkim/SeniorProject/tensor2.8/lib/python3.9/site-packages (from matplotlib->DeepImageSearch) (1.4.4)\n",
      "Requirement already satisfied: packaging>=20.0 in /home/chkim/SeniorProject/tensor2.8/lib/python3.9/site-packages (from matplotlib->DeepImageSearch) (21.3)\n",
      "Requirement already satisfied: pytz>=2020.1 in /home/chkim/SeniorProject/tensor2.8/lib/python3.9/site-packages (from pandas->DeepImageSearch) (2022.4)\n",
      "Requirement already satisfied: absl-py>=0.4.0 in /home/chkim/SeniorProject/tensor2.8/lib/python3.9/site-packages (from tensorflow->DeepImageSearch) (1.2.0)\n",
      "Requirement already satisfied: tensorflow-io-gcs-filesystem>=0.23.1 in /home/chkim/SeniorProject/tensor2.8/lib/python3.9/site-packages (from tensorflow->DeepImageSearch) (0.27.0)\n",
      "Requirement already satisfied: six>=1.12.0 in /home/chkim/SeniorProject/tensor2.8/lib/python3.9/site-packages (from tensorflow->DeepImageSearch) (1.16.0)\n",
      "Requirement already satisfied: h5py>=2.9.0 in /home/chkim/SeniorProject/tensor2.8/lib/python3.9/site-packages (from tensorflow->DeepImageSearch) (3.7.0)\n",
      "Requirement already satisfied: gast>=0.2.1 in /home/chkim/SeniorProject/tensor2.8/lib/python3.9/site-packages (from tensorflow->DeepImageSearch) (0.5.3)\n",
      "Requirement already satisfied: libclang>=9.0.1 in /home/chkim/SeniorProject/tensor2.8/lib/python3.9/site-packages (from tensorflow->DeepImageSearch) (14.0.6)\n",
      "Requirement already satisfied: tf-estimator-nightly==2.8.0.dev2021122109 in /home/chkim/SeniorProject/tensor2.8/lib/python3.9/site-packages (from tensorflow->DeepImageSearch) (2.8.0.dev2021122109)\n",
      "Requirement already satisfied: setuptools in /home/chkim/SeniorProject/tensor2.8/lib/python3.9/site-packages (from tensorflow->DeepImageSearch) (65.4.1)\n",
      "Requirement already satisfied: typing-extensions>=3.6.6 in /home/chkim/SeniorProject/tensor2.8/lib/python3.9/site-packages (from tensorflow->DeepImageSearch) (4.3.0)\n",
      "Requirement already satisfied: protobuf>=3.9.2 in /home/chkim/SeniorProject/tensor2.8/lib/python3.9/site-packages (from tensorflow->DeepImageSearch) (3.20.3)\n",
      "Requirement already satisfied: opt-einsum>=2.3.2 in /home/chkim/SeniorProject/tensor2.8/lib/python3.9/site-packages (from tensorflow->DeepImageSearch) (3.3.0)\n",
      "Requirement already satisfied: wrapt>=1.11.0 in /home/chkim/SeniorProject/tensor2.8/lib/python3.9/site-packages (from tensorflow->DeepImageSearch) (1.14.1)\n",
      "Requirement already satisfied: keras<2.9,>=2.8.0rc0 in /home/chkim/SeniorProject/tensor2.8/lib/python3.9/site-packages (from tensorflow->DeepImageSearch) (2.8.0)\n",
      "Requirement already satisfied: google-pasta>=0.1.1 in /home/chkim/SeniorProject/tensor2.8/lib/python3.9/site-packages (from tensorflow->DeepImageSearch) (0.2.0)\n",
      "Requirement already satisfied: grpcio<2.0,>=1.24.3 in /home/chkim/SeniorProject/tensor2.8/lib/python3.9/site-packages (from tensorflow->DeepImageSearch) (1.49.1)\n",
      "Requirement already satisfied: keras-preprocessing>=1.1.1 in /home/chkim/SeniorProject/tensor2.8/lib/python3.9/site-packages (from tensorflow->DeepImageSearch) (1.1.2)\n",
      "Requirement already satisfied: termcolor>=1.1.0 in /home/chkim/SeniorProject/tensor2.8/lib/python3.9/site-packages (from tensorflow->DeepImageSearch) (2.0.1)\n",
      "Requirement already satisfied: astunparse>=1.6.0 in /home/chkim/SeniorProject/tensor2.8/lib/python3.9/site-packages (from tensorflow->DeepImageSearch) (1.6.3)\n",
      "Requirement already satisfied: tensorboard<2.9,>=2.8 in /home/chkim/SeniorProject/tensor2.8/lib/python3.9/site-packages (from tensorflow->DeepImageSearch) (2.8.0)\n",
      "Requirement already satisfied: flatbuffers>=1.12 in /home/chkim/SeniorProject/tensor2.8/lib/python3.9/site-packages (from tensorflow->DeepImageSearch) (22.9.24)\n",
      "Requirement already satisfied: wheel<1.0,>=0.23.0 in /home/chkim/SeniorProject/tensor2.8/lib/python3.9/site-packages (from astunparse>=1.6.0->tensorflow->DeepImageSearch) (0.37.1)\n",
      "Requirement already satisfied: google-auth<3,>=1.6.3 in /home/chkim/SeniorProject/tensor2.8/lib/python3.9/site-packages (from tensorboard<2.9,>=2.8->tensorflow->DeepImageSearch) (2.12.0)\n",
      "Requirement already satisfied: requests<3,>=2.21.0 in /home/chkim/SeniorProject/tensor2.8/lib/python3.9/site-packages (from tensorboard<2.9,>=2.8->tensorflow->DeepImageSearch) (2.28.1)\n",
      "Requirement already satisfied: markdown>=2.6.8 in /home/chkim/SeniorProject/tensor2.8/lib/python3.9/site-packages (from tensorboard<2.9,>=2.8->tensorflow->DeepImageSearch) (3.4.1)\n",
      "Requirement already satisfied: tensorboard-plugin-wit>=1.6.0 in /home/chkim/SeniorProject/tensor2.8/lib/python3.9/site-packages (from tensorboard<2.9,>=2.8->tensorflow->DeepImageSearch) (1.8.1)\n",
      "Requirement already satisfied: tensorboard-data-server<0.7.0,>=0.6.0 in /home/chkim/SeniorProject/tensor2.8/lib/python3.9/site-packages (from tensorboard<2.9,>=2.8->tensorflow->DeepImageSearch) (0.6.1)\n",
      "Requirement already satisfied: google-auth-oauthlib<0.5,>=0.4.1 in /home/chkim/SeniorProject/tensor2.8/lib/python3.9/site-packages (from tensorboard<2.9,>=2.8->tensorflow->DeepImageSearch) (0.4.6)\n",
      "Requirement already satisfied: werkzeug>=0.11.15 in /home/chkim/SeniorProject/tensor2.8/lib/python3.9/site-packages (from tensorboard<2.9,>=2.8->tensorflow->DeepImageSearch) (2.2.2)\n",
      "Requirement already satisfied: rsa<5,>=3.1.4 in /home/chkim/SeniorProject/tensor2.8/lib/python3.9/site-packages (from google-auth<3,>=1.6.3->tensorboard<2.9,>=2.8->tensorflow->DeepImageSearch) (4.9)\n",
      "Requirement already satisfied: pyasn1-modules>=0.2.1 in /home/chkim/SeniorProject/tensor2.8/lib/python3.9/site-packages (from google-auth<3,>=1.6.3->tensorboard<2.9,>=2.8->tensorflow->DeepImageSearch) (0.2.8)\n",
      "Requirement already satisfied: cachetools<6.0,>=2.0.0 in /home/chkim/SeniorProject/tensor2.8/lib/python3.9/site-packages (from google-auth<3,>=1.6.3->tensorboard<2.9,>=2.8->tensorflow->DeepImageSearch) (5.2.0)\n",
      "Requirement already satisfied: requests-oauthlib>=0.7.0 in /home/chkim/SeniorProject/tensor2.8/lib/python3.9/site-packages (from google-auth-oauthlib<0.5,>=0.4.1->tensorboard<2.9,>=2.8->tensorflow->DeepImageSearch) (1.3.1)\n",
      "Requirement already satisfied: importlib-metadata>=4.4 in /home/chkim/SeniorProject/tensor2.8/lib/python3.9/site-packages (from markdown>=2.6.8->tensorboard<2.9,>=2.8->tensorflow->DeepImageSearch) (5.0.0)\n",
      "Requirement already satisfied: idna<4,>=2.5 in /home/chkim/SeniorProject/tensor2.8/lib/python3.9/site-packages (from requests<3,>=2.21.0->tensorboard<2.9,>=2.8->tensorflow->DeepImageSearch) (3.4)\n",
      "Requirement already satisfied: urllib3<1.27,>=1.21.1 in /home/chkim/SeniorProject/tensor2.8/lib/python3.9/site-packages (from requests<3,>=2.21.0->tensorboard<2.9,>=2.8->tensorflow->DeepImageSearch) (1.26.12)\n",
      "Requirement already satisfied: charset-normalizer<3,>=2 in /home/chkim/SeniorProject/tensor2.8/lib/python3.9/site-packages (from requests<3,>=2.21.0->tensorboard<2.9,>=2.8->tensorflow->DeepImageSearch) (2.1.1)\n",
      "Requirement already satisfied: certifi>=2017.4.17 in /home/chkim/SeniorProject/tensor2.8/lib/python3.9/site-packages (from requests<3,>=2.21.0->tensorboard<2.9,>=2.8->tensorflow->DeepImageSearch) (2022.9.24)\n",
      "Requirement already satisfied: MarkupSafe>=2.1.1 in /home/chkim/SeniorProject/tensor2.8/lib/python3.9/site-packages (from werkzeug>=0.11.15->tensorboard<2.9,>=2.8->tensorflow->DeepImageSearch) (2.1.1)\n",
      "Requirement already satisfied: zipp>=0.5 in /home/chkim/SeniorProject/tensor2.8/lib/python3.9/site-packages (from importlib-metadata>=4.4->markdown>=2.6.8->tensorboard<2.9,>=2.8->tensorflow->DeepImageSearch) (3.8.1)\n",
      "Requirement already satisfied: pyasn1<0.5.0,>=0.4.6 in /home/chkim/SeniorProject/tensor2.8/lib/python3.9/site-packages (from pyasn1-modules>=0.2.1->google-auth<3,>=1.6.3->tensorboard<2.9,>=2.8->tensorflow->DeepImageSearch) (0.4.8)\n",
      "Requirement already satisfied: oauthlib>=3.0.0 in /home/chkim/SeniorProject/tensor2.8/lib/python3.9/site-packages (from requests-oauthlib>=0.7.0->google-auth-oauthlib<0.5,>=0.4.1->tensorboard<2.9,>=2.8->tensorflow->DeepImageSearch) (3.2.1)\n"
     ]
    },
    {
     "name": "stdout",
     "output_type": "stream",
     "text": [
      "\n",
      "\u001b[1m[\u001b[0m\u001b[34;49mnotice\u001b[0m\u001b[1;39;49m]\u001b[0m\u001b[39;49m A new release of pip available: \u001b[0m\u001b[31;49m22.2.2\u001b[0m\u001b[39;49m -> \u001b[0m\u001b[32;49m22.3\u001b[0m\n",
      "\u001b[1m[\u001b[0m\u001b[34;49mnotice\u001b[0m\u001b[1;39;49m]\u001b[0m\u001b[39;49m To update, run: \u001b[0m\u001b[32;49mpip install --upgrade pip\u001b[0m\n",
      "Note: you may need to restart the kernel to use updated packages.\n"
     ]
    }
   ],
   "source": [
    "pip install DeepImageSearch"
   ]
  },
  {
   "cell_type": "code",
   "execution_count": 1,
   "id": "f552acb3",
   "metadata": {},
   "outputs": [],
   "source": [
    "# Importing the proper classes\n",
    "from DeepImageSearch import Index,LoadData,SearchImage"
   ]
  },
  {
   "cell_type": "code",
   "execution_count": 2,
   "id": "5a997d7d",
   "metadata": {},
   "outputs": [],
   "source": [
    "# load the Images from the Folder (You can also import data from multiple folders in python list type)\n",
    "image_list = LoadData().from_folder([\"/home/chkim/sample/similar\"])"
   ]
  },
  {
   "cell_type": "code",
   "execution_count": 3,
   "id": "566c5654",
   "metadata": {},
   "outputs": [
    {
     "name": "stdout",
     "output_type": "stream",
     "text": [
      "/home/chkim/sample/similar/coca cola can_675.jpg\n"
     ]
    }
   ],
   "source": [
    "print(image_list[0])"
   ]
  },
  {
   "cell_type": "code",
   "execution_count": 4,
   "id": "bcb1f52c",
   "metadata": {},
   "outputs": [
    {
     "name": "stderr",
     "output_type": "stream",
     "text": [
      "2022-11-07 20:20:57.622484: I tensorflow/stream_executor/cuda/cuda_gpu_executor.cc:936] successful NUMA node read from SysFS had negative value (-1), but there must be at least one NUMA node, so returning NUMA node zero\n",
      "2022-11-07 20:20:57.628142: I tensorflow/stream_executor/cuda/cuda_gpu_executor.cc:936] successful NUMA node read from SysFS had negative value (-1), but there must be at least one NUMA node, so returning NUMA node zero\n",
      "2022-11-07 20:20:57.628624: I tensorflow/stream_executor/cuda/cuda_gpu_executor.cc:936] successful NUMA node read from SysFS had negative value (-1), but there must be at least one NUMA node, so returning NUMA node zero\n",
      "2022-11-07 20:20:57.629519: I tensorflow/core/platform/cpu_feature_guard.cc:151] This TensorFlow binary is optimized with oneAPI Deep Neural Network Library (oneDNN) to use the following CPU instructions in performance-critical operations:  AVX2 FMA\n",
      "To enable them in other operations, rebuild TensorFlow with the appropriate compiler flags.\n",
      "2022-11-07 20:20:57.630300: I tensorflow/stream_executor/cuda/cuda_gpu_executor.cc:936] successful NUMA node read from SysFS had negative value (-1), but there must be at least one NUMA node, so returning NUMA node zero\n",
      "2022-11-07 20:20:57.630777: I tensorflow/stream_executor/cuda/cuda_gpu_executor.cc:936] successful NUMA node read from SysFS had negative value (-1), but there must be at least one NUMA node, so returning NUMA node zero\n",
      "2022-11-07 20:20:57.631220: I tensorflow/stream_executor/cuda/cuda_gpu_executor.cc:936] successful NUMA node read from SysFS had negative value (-1), but there must be at least one NUMA node, so returning NUMA node zero\n",
      "2022-11-07 20:20:58.452132: I tensorflow/stream_executor/cuda/cuda_gpu_executor.cc:936] successful NUMA node read from SysFS had negative value (-1), but there must be at least one NUMA node, so returning NUMA node zero\n",
      "2022-11-07 20:20:58.452488: I tensorflow/stream_executor/cuda/cuda_gpu_executor.cc:936] successful NUMA node read from SysFS had negative value (-1), but there must be at least one NUMA node, so returning NUMA node zero\n",
      "2022-11-07 20:20:58.452797: I tensorflow/stream_executor/cuda/cuda_gpu_executor.cc:936] successful NUMA node read from SysFS had negative value (-1), but there must be at least one NUMA node, so returning NUMA node zero\n",
      "2022-11-07 20:20:58.453564: I tensorflow/core/common_runtime/gpu/gpu_device.cc:1525] Created device /job:localhost/replica:0/task:0/device:GPU:0 with 4259 MB memory:  -> device: 0, name: NVIDIA GeForce GTX 1660 SUPER, pci bus id: 0000:06:00.0, compute capability: 7.5\n",
      "  0%|                                                                                                                               | 0/1007 [00:00<?, ?it/s]2022-11-07 20:21:00.964315: I tensorflow/stream_executor/cuda/cuda_dnn.cc:368] Loaded cuDNN version 8201\n",
      "2022-11-07 20:21:01.284286: W tensorflow/stream_executor/gpu/asm_compiler.cc:111] *** WARNING *** You are using ptxas 9.1.108, which is older than 11.1. ptxas before 11.1 is known to miscompile XLA code, leading to incorrect results or invalid-address errors.\n",
      "\n",
      "You may not need to update to CUDA 11.1; cherry-picking the ptxas binary is often sufficient.\n",
      "2022-11-07 20:21:01.286731: W tensorflow/stream_executor/gpu/asm_compiler.cc:230] Falling back to the CUDA driver for PTX compilation; ptxas does not support CC 7.5\n",
      "2022-11-07 20:21:01.286754: W tensorflow/stream_executor/gpu/asm_compiler.cc:233] Used ptxas at ptxas\n",
      "2022-11-07 20:21:01.287299: W tensorflow/stream_executor/gpu/redzone_allocator.cc:314] UNIMPLEMENTED: ptxas ptxas too old. Falling back to the driver to compile.\n",
      "Relying on driver to perform ptx compilation. \n",
      "Modify $PATH to customize ptxas location.\n",
      "This message will be only logged once.\n",
      "100%|████████████████████████████████████████████████████████████████████████████████████████████████████████████████████| 1007/1007 [00:39<00:00, 25.52it/s]\n"
     ]
    },
    {
     "name": "stdout",
     "output_type": "stream",
     "text": [
      "Image Meta Information Saved: [meta-data-files/image_data_features.pkl]\n"
     ]
    },
    {
     "name": "stderr",
     "output_type": "stream",
     "text": [
      "1007it [00:00, 2405.00it/s]"
     ]
    },
    {
     "name": "stdout",
     "output_type": "stream",
     "text": [
      "Saved the Indexed File:[meta-data-files/image_features_vectors.ann]\n"
     ]
    },
    {
     "name": "stderr",
     "output_type": "stream",
     "text": [
      "\n"
     ]
    }
   ],
   "source": [
    "# For Faster Serching we need to index Data first, After Indexing all the meta data stored on the local path\n",
    "Index(image_list).Start()"
   ]
  },
  {
   "cell_type": "code",
   "execution_count": 7,
   "id": "165938e0",
   "metadata": {},
   "outputs": [],
   "source": [
    "import os"
   ]
  },
  {
   "cell_type": "code",
   "execution_count": null,
   "id": "a4262025",
   "metadata": {},
   "outputs": [],
   "source": []
  },
  {
   "cell_type": "code",
   "execution_count": 6,
   "id": "1d1306d9",
   "metadata": {},
   "outputs": [],
   "source": [
    "sim_dic = {}"
   ]
  },
  {
   "cell_type": "code",
   "execution_count": 28,
   "id": "27f5155d",
   "metadata": {},
   "outputs": [],
   "source": [
    "sim_dic = SearchImage().get_similar_images(image_path='/home/chkim/SeniorProject/crawling/crawl_image_bak_duplicate/coca cola can/coca cola can_959.jpg',number_of_images=50)"
   ]
  },
  {
   "cell_type": "code",
   "execution_count": 29,
   "id": "b5f68e5d",
   "metadata": {},
   "outputs": [
    {
     "name": "stdout",
     "output_type": "stream",
     "text": [
      "{900: '/home/chkim/SeniorProject/crawling/crawl_image_bak_duplicate/coca cola can/coca cola can_959.jpg', 541: '/home/chkim/SeniorProject/crawling/crawl_image_bak_duplicate/coca cola can/coca cola can_860.jpg', 811: '/home/chkim/SeniorProject/crawling/crawl_image_bak_duplicate/coca cola can/coca cola can_734.jpg', 181: '/home/chkim/SeniorProject/crawling/crawl_image_bak_duplicate/coca cola can/coca cola can_575.jpg', 839: '/home/chkim/SeniorProject/crawling/crawl_image_bak_duplicate/coca cola can/coca cola can_927.jpg', 807: '/home/chkim/SeniorProject/crawling/crawl_image_bak_duplicate/coca cola can/coca cola can_977.jpg', 670: '/home/chkim/SeniorProject/crawling/crawl_image_bak_duplicate/coca cola can/coca cola can_245.jpg', 997: '/home/chkim/SeniorProject/crawling/crawl_image_bak_duplicate/coca cola can/coca cola can_895.jpg', 326: '/home/chkim/SeniorProject/crawling/crawl_image_bak_duplicate/coca cola can/coca cola can_818.jpg', 658: '/home/chkim/SeniorProject/crawling/crawl_image_bak_duplicate/coca cola can/coca cola can_660.jpg', 339: '/home/chkim/SeniorProject/crawling/crawl_image_bak_duplicate/coca cola can/coca cola can_900.jpg', 508: '/home/chkim/SeniorProject/crawling/crawl_image_bak_duplicate/coca cola can/coca cola can_976.jpg', 797: '/home/chkim/SeniorProject/crawling/crawl_image_bak_duplicate/coca cola can/coca cola can_728.jpg', 2: '/home/chkim/SeniorProject/crawling/crawl_image_bak_duplicate/coca cola can/coca cola can_973.jpg', 467: '/home/chkim/SeniorProject/crawling/crawl_image_bak_duplicate/coca cola can/coca cola can_710.jpg', 229: '/home/chkim/SeniorProject/crawling/crawl_image_bak_duplicate/coca cola can/coca cola can_601.jpg', 503: '/home/chkim/SeniorProject/crawling/crawl_image_bak_duplicate/coca cola can/coca cola can_975.jpg', 336: '/home/chkim/SeniorProject/crawling/crawl_image_bak_duplicate/coca cola can/coca cola can_45.jpg', 589: '/home/chkim/SeniorProject/crawling/crawl_image_bak_duplicate/coca cola can/coca cola can_880.jpg', 673: '/home/chkim/SeniorProject/crawling/crawl_image_bak_duplicate/coca cola can/coca cola can_690.jpg', 627: '/home/chkim/SeniorProject/crawling/crawl_image_bak_duplicate/coca cola can/coca cola can_756.jpg', 73: '/home/chkim/SeniorProject/crawling/crawl_image_bak_duplicate/coca cola can/coca cola can_750.jpg', 573: '/home/chkim/SeniorProject/crawling/crawl_image_bak_duplicate/coca cola can/coca cola can_946.jpg', 666: '/home/chkim/SeniorProject/crawling/crawl_image_bak_duplicate/coca cola can/coca cola can_672.jpg', 964: '/home/chkim/SeniorProject/crawling/crawl_image_bak_duplicate/coca cola can/coca cola can_582.jpg', 142: '/home/chkim/SeniorProject/crawling/crawl_image_bak_duplicate/coca cola can/coca cola can_807.jpg', 249: '/home/chkim/SeniorProject/crawling/crawl_image_bak_duplicate/coca cola can/coca cola can_743.jpg', 488: '/home/chkim/SeniorProject/crawling/crawl_image_bak_duplicate/coca cola can/coca cola can_208.jpg', 290: '/home/chkim/SeniorProject/crawling/crawl_image_bak_duplicate/coca cola can/coca cola can_709.jpg', 966: '/home/chkim/SeniorProject/crawling/crawl_image_bak_duplicate/coca cola can/coca cola can_749.jpg', 68: '/home/chkim/SeniorProject/crawling/crawl_image_bak_duplicate/coca cola can/coca cola can_678.jpg', 963: '/home/chkim/SeniorProject/crawling/crawl_image_bak_duplicate/coca cola can/coca cola can_997.jpg', 168: '/home/chkim/SeniorProject/crawling/crawl_image_bak_duplicate/coca cola can/coca cola can_219.jpg', 626: '/home/chkim/SeniorProject/crawling/crawl_image_bak_duplicate/coca cola can/coca cola can_987.jpg', 795: '/home/chkim/SeniorProject/crawling/crawl_image_bak_duplicate/coca cola can/coca cola can_16.jpg', 334: '/home/chkim/SeniorProject/crawling/crawl_image_bak_duplicate/coca cola can/coca cola can_903.jpg', 253: '/home/chkim/SeniorProject/crawling/crawl_image_bak_duplicate/coca cola can/coca cola can_758.jpg', 570: '/home/chkim/SeniorProject/crawling/crawl_image_bak_duplicate/coca cola can/coca cola can_635.jpg', 186: '/home/chkim/SeniorProject/crawling/crawl_image_bak_duplicate/coca cola can/coca cola can_139.jpg', 208: '/home/chkim/SeniorProject/crawling/crawl_image_bak_duplicate/coca cola can/coca cola can_824.jpg', 400: '/home/chkim/SeniorProject/crawling/crawl_image_bak_duplicate/coca cola can/coca cola can_195.jpg', 704: '/home/chkim/SeniorProject/crawling/crawl_image_bak_duplicate/coca cola can/coca cola can_351.jpg', 215: '/home/chkim/SeniorProject/crawling/crawl_image_bak_duplicate/coca cola can/coca cola can_748.jpg', 349: '/home/chkim/SeniorProject/crawling/crawl_image_bak_duplicate/coca cola can/coca cola can_235.jpg', 226: '/home/chkim/SeniorProject/crawling/crawl_image_bak_duplicate/coca cola can/coca cola can_399.jpg', 699: '/home/chkim/SeniorProject/crawling/crawl_image_bak_duplicate/coca cola can/coca cola can_429.jpg', 584: '/home/chkim/SeniorProject/crawling/crawl_image_bak_duplicate/coca cola can/coca cola can_346.jpg', 863: '/home/chkim/SeniorProject/crawling/crawl_image_bak_duplicate/coca cola can/coca cola can_290.jpg', 972: '/home/chkim/SeniorProject/crawling/crawl_image_bak_duplicate/coca cola can/coca cola can_292.jpg', 806: '/home/chkim/SeniorProject/crawling/crawl_image_bak_duplicate/coca cola can/coca cola can_869.jpg'}\n"
     ]
    }
   ],
   "source": [
    "print(sim_dic)"
   ]
  },
  {
   "cell_type": "code",
   "execution_count": 30,
   "id": "53ae91e4",
   "metadata": {},
   "outputs": [
    {
     "data": {
      "text/plain": [
       "'coca cola can_959.jpg'"
      ]
     },
     "execution_count": 30,
     "metadata": {},
     "output_type": "execute_result"
    }
   ],
   "source": [
    "path = sim_dic[900]\n",
    "path[len('/home/chkim/SeniorProject/crawling/crawl_image_bak_duplicate/coca cola can/'):]"
   ]
  },
  {
   "cell_type": "code",
   "execution_count": 31,
   "id": "c7aef9c7",
   "metadata": {},
   "outputs": [],
   "source": [
    "from PIL import Image\n",
    "\n",
    "for vec, file_name in sim_dic.items():\n",
    "    img = Image.open(file_name)\n",
    "    if img.mode != 'RGB':\n",
    "        img = img.convert('RGB')\n",
    "    path = sim_dic[vec]\n",
    "    img.save(\"result/coca_cola/\" + path[len('/home/chkim/SeniorProject/crawling/crawl_image_bak_duplicate/coca cola can/'):])"
   ]
  },
  {
   "cell_type": "code",
   "execution_count": null,
   "id": "e3f1c6d1",
   "metadata": {},
   "outputs": [],
   "source": []
  }
 ],
 "metadata": {
  "kernelspec": {
   "display_name": "Python 3 (ipykernel)",
   "language": "python",
   "name": "python3"
  },
  "language_info": {
   "codemirror_mode": {
    "name": "ipython",
    "version": 3
   },
   "file_extension": ".py",
   "mimetype": "text/x-python",
   "name": "python",
   "nbconvert_exporter": "python",
   "pygments_lexer": "ipython3",
   "version": "3.9.1"
  }
 },
 "nbformat": 4,
 "nbformat_minor": 5
}
