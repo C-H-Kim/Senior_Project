{
 "cells": [
  {
   "cell_type": "code",
   "execution_count": 1,
   "metadata": {},
   "outputs": [],
   "source": [
    "import os"
   ]
  },
  {
   "cell_type": "code",
   "execution_count": 4,
   "metadata": {},
   "outputs": [
    {
     "data": {
      "text/plain": [
       "['powerade can',\n",
       " 'demisoda apple can',\n",
       " 'coca cola can',\n",
       " 'dr pepper can',\n",
       " 'pocari sweat can',\n",
       " 'chilsung cider can',\n",
       " 'gatorade can',\n",
       " 'pepsi can']"
      ]
     },
     "execution_count": 4,
     "metadata": {},
     "output_type": "execute_result"
    }
   ],
   "source": [
    "basic_path = \"/home/chkim/SeniorProject/augment/aug_data/\"\n",
    "labels = os.listdir(basic_path)\n",
    "labels"
   ]
  },
  {
   "cell_type": "code",
   "execution_count": 24,
   "metadata": {},
   "outputs": [],
   "source": [
    "for label in labels:\n",
    "    i = 1\n",
    "    images = os.listdir(basic_path + label)\n",
    "\n",
    "    for img in images:\n",
    "        image_path = basic_path + label\n",
    "        src = os.path.join(image_path, img)\n",
    "        dst = label + '_' + '%05d' % i + '.jpg'\n",
    "        dst = os.path.join(image_path, dst)\n",
    "        os.rename(src, dst)\n",
    "        i += 1"
   ]
  },
  {
   "cell_type": "code",
   "execution_count": null,
   "metadata": {},
   "outputs": [],
   "source": []
  }
 ],
 "metadata": {
  "kernelspec": {
   "display_name": "Python 3 (ipykernel)",
   "language": "python",
   "name": "python3"
  },
  "language_info": {
   "codemirror_mode": {
    "name": "ipython",
    "version": 3
   },
   "file_extension": ".py",
   "mimetype": "text/x-python",
   "name": "python",
   "nbconvert_exporter": "python",
   "pygments_lexer": "ipython3",
   "version": "3.9.1"
  },
  "vscode": {
   "interpreter": {
    "hash": "31f2aee4e71d21fbe5cf8b01ff0e069b9275f58929596ceb00d14d90e3e16cd6"
   }
  }
 },
 "nbformat": 4,
 "nbformat_minor": 2
}
