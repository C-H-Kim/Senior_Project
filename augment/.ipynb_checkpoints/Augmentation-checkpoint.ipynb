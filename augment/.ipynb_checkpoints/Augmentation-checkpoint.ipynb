{
 "cells": [
  {
   "cell_type": "code",
   "execution_count": 5,
   "id": "570f05fa",
   "metadata": {},
   "outputs": [],
   "source": [
    "import os\n",
    "from keras.preprocessing.image import ImageDataGenerator, array_to_img, img_to_array, load_img\n",
    "from glob import glob"
   ]
  },
  {
   "cell_type": "code",
   "execution_count": 11,
   "id": "dff6f084",
   "metadata": {},
   "outputs": [
    {
     "data": {
      "text/plain": [
       "['coke']"
      ]
     },
     "execution_count": 11,
     "metadata": {},
     "output_type": "execute_result"
    }
   ],
   "source": [
    "basic_path = '/home/chkim/sample/augment/'\n",
    "dir_list = os.listdir(basic_path)\n",
    "len(dir_list)"
   ]
  },
  {
   "cell_type": "code",
   "execution_count": 7,
   "id": "8d3fc936",
   "metadata": {},
   "outputs": [],
   "source": [
    "def create_dir_if_not_exist(directory):\n",
    "    if not os.path.exists(directory):\n",
    "        os.makedirs(directory)"
   ]
  },
  {
   "cell_type": "code",
   "execution_count": 14,
   "id": "702a12d7",
   "metadata": {},
   "outputs": [
    {
     "name": "stdout",
     "output_type": "stream",
     "text": [
      "[INFO] coke augmentation start.\n",
      "[INFO] coke augmentation done.\n",
      "\n"
     ]
    }
   ],
   "source": [
    "for i in range(len(dir_list)):\n",
    "    images = glob(basic_path + dir_list[i] + '/*.jpg')\n",
    "    \n",
    "    datagen = ImageDataGenerator(\n",
    "            rotation_range = 40,\n",
    "            width_shift_range = 0.2,\n",
    "            height_shift_range = 0.2,\n",
    "            shear_range = 0.2,\n",
    "            zoom_range = 0.2,\n",
    "            horizontal_flip = True,\n",
    "            fill_mode = 'nearest')\n",
    "    \n",
    "    label = dir_list[i]\n",
    "    \n",
    "    save_path = '/home/chkim/sample/res/'\n",
    "    \n",
    "    create_dir_if_not_exist(save_path + label)\n",
    "    \n",
    "    print(f\"[INFO] {label} augmentation start.\")\n",
    "    for im in images:\n",
    "        img = load_img(im)\n",
    "        x = img_to_array(img)\n",
    "        x = x.reshape((1,) + x.shape)\n",
    "        \n",
    "        j = 0\n",
    "        for batch in datagen.flow(\n",
    "                x, batch_size = 1, save_to_dir = save_path + label, save_prefix = label, save_format = 'jpeg'):\n",
    "            j += 1\n",
    "            if j >= 50:\n",
    "                break\n",
    "    \n",
    "    print(f\"[INFO] {label} augmentation done.\\n\")"
   ]
  },
  {
   "cell_type": "code",
   "execution_count": null,
   "id": "7a759ddf",
   "metadata": {},
   "outputs": [],
   "source": []
  }
 ],
 "metadata": {
  "kernelspec": {
   "display_name": "Python 3 (ipykernel)",
   "language": "python",
   "name": "python3"
  },
  "language_info": {
   "codemirror_mode": {
    "name": "ipython",
    "version": 3
   },
   "file_extension": ".py",
   "mimetype": "text/x-python",
   "name": "python",
   "nbconvert_exporter": "python",
   "pygments_lexer": "ipython3",
   "version": "3.9.1"
  }
 },
 "nbformat": 4,
 "nbformat_minor": 5
}
